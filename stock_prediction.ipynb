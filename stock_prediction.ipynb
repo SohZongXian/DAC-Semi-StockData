{
 "cells": [
  {
   "cell_type": "code",
   "execution_count": null,
   "id": "a57c4099-fa13-4071-a15c-e2ec38b4f21f",
   "metadata": {},
   "outputs": [],
   "source": [
    "import pandas as pd\n",
    "import seaborn as sns\n",
    "import numpy as np\n",
    "import csv\n",
    "import klib \n",
    "import matplotlib.pyplot as plt\n",
    "import datetime"
   ]
  },
  {
   "cell_type": "code",
   "execution_count": null,
   "id": "569af5fc-90a7-4c77-8ec3-ae76bf21cd8d",
   "metadata": {},
   "outputs": [],
   "source": [
    "base_dir = \"../datasets/\"\n",
    "key = \"Data.csv\"\n",
    "df = pd.read_csv(base_dir+key)"
   ]
  },
  {
   "cell_type": "code",
   "execution_count": null,
   "id": "8d978312-2b13-479f-8838-ad30c716ba24",
   "metadata": {},
   "outputs": [],
   "source": [
    "df = klib.clean_column_names(df)"
   ]
  },
  {
   "cell_type": "code",
   "execution_count": null,
   "id": "11f02450-bce9-488a-a67f-a846349af605",
   "metadata": {},
   "outputs": [],
   "source": [
    "df.head()"
   ]
  },
  {
   "cell_type": "markdown",
   "id": "cbe0bf97-8c1b-4798-93f3-338a9289c4da",
   "metadata": {},
   "source": [
    "## Parse last published "
   ]
  },
  {
   "cell_type": "code",
   "execution_count": null,
   "id": "2786da16-2574-4d01-b6c3-d3cb67bf2eaa",
   "metadata": {},
   "outputs": [],
   "source": [
    "pd.set_option(\"display.max_rows\", None)\n",
    "df['last_published'].value_counts()"
   ]
  },
  {
   "cell_type": "code",
   "execution_count": null,
   "id": "e576ff31-d9fa-4510-a5fe-baf9439992ff",
   "metadata": {},
   "outputs": [],
   "source": [
    "def convert(df):\n",
    "    parsed =  df['last_published'].replace('_','')\n",
    "    day_or_hr = df['last_published'][-1]\n",
    "    val = float(df['last_published'][:-1])\n",
    "    if day_or_hr == 'd':\n",
    "        return float(val*24)\n",
    "    elif day_or_hr == 'h':\n",
    "        return val\n",
    "    elif day_or_hr == 'm':\n",
    "        return float(val/60)\n",
    "    elif day_or_hr == 's':\n",
    "        return float(val/360)\n",
    "        \n",
    "        "
   ]
  },
  {
   "cell_type": "code",
   "execution_count": null,
   "id": "e707fdc4-c3f9-40ae-a696-d3a55e9ec6f6",
   "metadata": {},
   "outputs": [],
   "source": [
    "df['last_published'] = df.apply(convert, axis = 1)"
   ]
  },
  {
   "cell_type": "markdown",
   "id": "6b97d36a-7f90-465a-a9c5-bde0713ae3a7",
   "metadata": {},
   "source": [
    "## Parse language"
   ]
  },
  {
   "cell_type": "code",
   "execution_count": null,
   "id": "7a31595f-450a-46ec-939f-55247ba42c9d",
   "metadata": {},
   "outputs": [],
   "source": [
    "from sklearn import preprocessing\n",
    "le = preprocessing.LabelEncoder()\n",
    "le.fit(df['language'])"
   ]
  },
  {
   "cell_type": "code",
   "execution_count": null,
   "id": "e85db94a-308f-4890-915f-ae32239937f5",
   "metadata": {},
   "outputs": [],
   "source": [
    "le.classes_"
   ]
  },
  {
   "cell_type": "code",
   "execution_count": null,
   "id": "44038289-8fa6-4c5c-99c5-b235afec2335",
   "metadata": {},
   "outputs": [],
   "source": [
    "df['parsed_language'] = le.fit_transform(df['language'])\n",
    "    "
   ]
  },
  {
   "cell_type": "code",
   "execution_count": null,
   "id": "a8fa616c-1d8f-4c92-9498-7057d66a3f77",
   "metadata": {},
   "outputs": [],
   "source": [
    "df.drop(['language'],axis = 1, inplace= True)"
   ]
  },
  {
   "cell_type": "markdown",
   "id": "e86f7024-1c10-474d-9f2c-b390505e2bfd",
   "metadata": {},
   "source": [
    "## Parse is_copied"
   ]
  },
  {
   "cell_type": "code",
   "execution_count": null,
   "id": "50bfff2f-ca59-4d5b-8eea-d9fbebd7d8f7",
   "metadata": {},
   "outputs": [],
   "source": [
    "le.fit(df['is_copied'])"
   ]
  },
  {
   "cell_type": "code",
   "execution_count": null,
   "id": "8fb401e2-bd2c-4ce7-8e2c-a9fe0beeb37d",
   "metadata": {},
   "outputs": [],
   "source": [
    "le.classes_"
   ]
  },
  {
   "cell_type": "code",
   "execution_count": null,
   "id": "7a330a46-2154-4cfb-86ac-8cd4168e7cd7",
   "metadata": {},
   "outputs": [],
   "source": [
    "df['is_copied'] = le.fit_transform(df['is_copied'])"
   ]
  },
  {
   "cell_type": "markdown",
   "id": "5ad2adf6-bf90-437c-ad41-199ec6580e1d",
   "metadata": {},
   "source": [
    "## Output"
   ]
  },
  {
   "cell_type": "code",
   "execution_count": null,
   "id": "778c6f57-0172-475b-af48-d488118a75da",
   "metadata": {},
   "outputs": [],
   "source": [
    "df.to_csv('Data_cleaned.csv',index=False)"
   ]
  },
  {
   "cell_type": "markdown",
   "id": "571968a6-f8ad-46b4-8c70-a31f641ebb96",
   "metadata": {},
   "source": [
    "## Features Removed"
   ]
  },
  {
   "cell_type": "markdown",
   "id": "7949ea2d-c9e5-4d6f-923b-a8e829f70c51",
   "metadata": {},
   "source": [
    "- market_cap_usd and stars and watchers highly correlated, but not removed because different things\n",
    "- changes_1y removed (corr with changes 7d and contributors)\n",
    "- changes_7d removed (corr with contributors and changes_1y)\n",
    "- removed_1y removed (corr with added_1y) //very high corr\n",
    "- changes 24hr removed cause low significance\n",
    "- added_24hr removed cause low significance"
   ]
  },
  {
   "cell_type": "code",
   "execution_count": null,
   "id": "439200bf-4c0c-46e6-a887-9afd3aa7af4d",
   "metadata": {},
   "outputs": [],
   "source": [
    "df.columns"
   ]
  },
  {
   "cell_type": "code",
   "execution_count": null,
   "id": "b35cebd1-589b-4153-9f44-64003aa6aab3",
   "metadata": {},
   "outputs": [],
   "source": [
    "df.drop(['market_cap_usd','changes_1y','changes_7d','removed_1y','changes_24h','added_24h'],axis = 1, inplace = True)"
   ]
  },
  {
   "cell_type": "code",
   "execution_count": null,
   "id": "a50ad7fb-7253-4ea1-9615-089d1895ef2f",
   "metadata": {},
   "outputs": [],
   "source": [
    "df.info()"
   ]
  },
  {
   "cell_type": "code",
   "execution_count": null,
   "id": "4483d162-ec87-4543-89b6-cb0217936828",
   "metadata": {},
   "outputs": [],
   "source": [
    "from sklearn.model_selection import train_test_split\n",
    "x_train, x_test, y_train, y_test = train_test_split(raw_features, target, test_size=0.2)"
   ]
  },
  {
   "cell_type": "code",
   "execution_count": null,
   "id": "6bdbf693-c312-48bf-943f-2f13a11084aa",
   "metadata": {},
   "outputs": [],
   "source": [
    "from sklearn.ensemble import RandomForestRegressor\n",
    "regressor = RandomForestRegressor(n_estimators = 10, random_state = 42)\n",
    " \n",
    "regressor.fit(x_train,y_train)"
   ]
  },
  {
   "cell_type": "markdown",
   "id": "a6bc9ff0-77e2-4a22-bb32-b858a142faac",
   "metadata": {},
   "source": [
    "## Eval"
   ]
  },
  {
   "cell_type": "code",
   "execution_count": null,
   "id": "192ebc02-bdb0-4f6c-9a07-d50664898932",
   "metadata": {},
   "outputs": [],
   "source": [
    "print(regressor.score(x_train,y_train))\n",
    "print(regressor.score(x_test,y_test))\n"
   ]
  },
  {
   "cell_type": "code",
   "execution_count": null,
   "id": "0e71d3f2-9201-473b-ab5f-1a52bced5621",
   "metadata": {},
   "outputs": [],
   "source": [
    "raw_features = df.drop(['price_share_usd'], axis = 1)\n",
    "target = df['price_share_usd']"
   ]
  },
  {
   "cell_type": "code",
   "execution_count": null,
   "id": "226c46f2-3e72-4bd8-88f4-1028f05f213b",
   "metadata": {},
   "outputs": [],
   "source": [
    "import seaborn as sns\n",
    "corr=raw_features.corr()\n",
    "top_features=corr.index\n",
    "plt.figure(figsize=(21,21))\n",
    "sns.heatmap(df[top_features].corr(),annot=True)"
   ]
  },
  {
   "cell_type": "code",
   "execution_count": null,
   "id": "bc3d279e-b712-4330-b820-34e4f7eb6fa4",
   "metadata": {},
   "outputs": [],
   "source": [
    "cutoff = 0.6\n",
    "def detect_corr(dataset, cutoff):\n",
    "    col_corr = set()  # Set of all the names of correlated columns\n",
    "    corr_matrix = dataset.corr()\n",
    "    for i in range(len(corr_matrix.columns)):\n",
    "        for j in range(i):\n",
    "            if abs(corr_matrix.iloc[i, j]) > cutoff: # we are interested in absolute coeff value\n",
    "                colname = corr_matrix.columns[i]  # getting the name of column\n",
    "                col_corr.add(colname)\n",
    "    return col_corr"
   ]
  },
  {
   "cell_type": "code",
   "execution_count": null,
   "id": "5e781415-73ed-4312-b0b4-fd8cde99acc1",
   "metadata": {},
   "outputs": [],
   "source": [
    "detect_corr(raw_features,cutoff)"
   ]
  },
  {
   "cell_type": "markdown",
   "id": "2be1edfb-820c-47b0-abd7-1aac316f382f",
   "metadata": {},
   "source": [
    "- market_cap_usd and stars and watchers highly correlated, but not removed because different things\n",
    "- changes_1y removed (corr with changes 7d and contributors)\n",
    "- changes_7d removed (corr with contributors and changes_1y)\n",
    "- removed_1y removed (corr with added_1y) //very high corr\n",
    "\n",
    "\n",
    "- changes 24hr removed cause low significance\n",
    "- added_24hr removed cause low significance "
   ]
  },
  {
   "cell_type": "code",
   "execution_count": null,
   "id": "ce9cd40a-46ef-40ae-a8b9-bb1ab3ae1d3c",
   "metadata": {},
   "outputs": [],
   "source": [
    "import seaborn as sns\n",
    "corr=df.corr()\n",
    "top_features=corr.index\n",
    "plt.figure(figsize=(21,21))\n",
    "sns.heatmap(df[top_features].corr(),annot=True)"
   ]
  },
  {
   "cell_type": "markdown",
   "id": "df21d503-f80e-44b0-b7d4-729aeb5259c6",
   "metadata": {},
   "source": [
    "### High correlation with share price\n",
    "\n",
    "- market_cap\n",
    "- watchers (corr with market cap)\n",
    "- stars (corr with market cap)\n",
    "- contribution_all_time\n",
    "- "
   ]
  },
  {
   "cell_type": "code",
   "execution_count": null,
   "id": "d0c4b19c-a071-46ee-b954-ee5f133d0897",
   "metadata": {},
   "outputs": [],
   "source": [
    "df.columns"
   ]
  },
  {
   "cell_type": "code",
   "execution_count": null,
   "id": "38f8230a-1517-4d43-b043-87e8bfac1d56",
   "metadata": {},
   "outputs": [],
   "source": [
    "klib.dist_plot(df)"
   ]
  },
  {
   "cell_type": "code",
   "execution_count": null,
   "id": "d9e57154-ed0d-4c78-b3bb-bb88d2b268e2",
   "metadata": {},
   "outputs": [],
   "source": [
    "df.isnull().sum()"
   ]
  },
  {
   "cell_type": "markdown",
   "id": "366bfd1c-c2ba-4380-b120-f0667786e68d",
   "metadata": {},
   "source": [
    "## Feature Selection"
   ]
  },
  {
   "cell_type": "code",
   "execution_count": null,
   "id": "760d6d99-bf52-4d76-b5a9-838cde1e65b6",
   "metadata": {},
   "outputs": [],
   "source": [
    "from sklearn.feature_selection import SelectKBest\n",
    "from sklearn.feature_selection import chi2"
   ]
  },
  {
   "cell_type": "code",
   "execution_count": null,
   "id": "dbfa0057-2551-46c8-8281-91eb19c78468",
   "metadata": {},
   "outputs": [],
   "source": [
    "feature_selection_df = df\n",
    "feature_selection_df.drop(['company_code'], axis = 1, inplace = True)"
   ]
  },
  {
   "cell_type": "code",
   "execution_count": null,
   "id": "b6405caa-d23d-499a-b8f6-461ece00c008",
   "metadata": {},
   "outputs": [],
   "source": [
    "feature_selection_df.head()"
   ]
  },
  {
   "cell_type": "code",
   "execution_count": null,
   "id": "c555ecd7-2f8d-47c8-9712-b69b941841f9",
   "metadata": {},
   "outputs": [],
   "source": [
    "X = feature_selection_df.drop(['price_share_usd'], axis = 1)\n",
    "y = df['price_share_usd']"
   ]
  },
  {
   "cell_type": "code",
   "execution_count": null,
   "id": "ed1b8888-2768-4ebd-a11a-c64fc542269e",
   "metadata": {},
   "outputs": [],
   "source": [
    "ordered_rank_features=SelectKBest(score_func=chi2,k='all')\n",
    "ordered_feature=ordered_rank_features.fit_transform(X,y)"
   ]
  },
  {
   "cell_type": "markdown",
   "id": "2143ace0-f086-4a9b-bc84-4388341dff10",
   "metadata": {},
   "source": [
    "## Time series"
   ]
  },
  {
   "cell_type": "code",
   "execution_count": null,
   "id": "deb584ef-a220-4de2-8874-79f19e9c1284",
   "metadata": {},
   "outputs": [],
   "source": [
    "df['time_date'] = pd.to_datetime(df['time_date']).dt.date"
   ]
  },
  {
   "cell_type": "code",
   "execution_count": null,
   "id": "5bcc1d31-ee06-4bd8-9f29-74e76f8d18f3",
   "metadata": {},
   "outputs": [],
   "source": [
    "import plotly.graph_objects as go\n",
    "\n",
    "fig = px.histogram(dealings_true, x=\"time_date\", y=\"dealing\", histfunc=\"count\", title=\"Sum Of dealings per month\")\n",
    "fig.update_traces(xbins_size=\"M1\")\n",
    "fig.update_xaxes(showgrid=True, ticklabelmode=\"period\", dtick=\"M1\", tickformat=\"%b\\n%Y\")\n",
    "fig.update_layout(bargap=0.1)\n",
    "# fig.add_trace(go.Scatter(mode=\"markers\", x=is_bought_false[\"time_date\"], y=df[\"cnt\"], name=\"daily\"))\n",
    "fig.show()"
   ]
  },
  {
   "cell_type": "markdown",
   "id": "f07f0b20-056f-4096-b5d0-4153749df45f",
   "metadata": {},
   "source": [
    "## Output clean csv"
   ]
  },
  {
   "cell_type": "code",
   "execution_count": null,
   "id": "526b0cd6-8e9e-4126-a4a7-012edc26f824",
   "metadata": {},
   "outputs": [],
   "source": [
    "df.head()"
   ]
  },
  {
   "cell_type": "markdown",
   "id": "af90ab03-d069-494b-b78a-8016b221b7ec",
   "metadata": {},
   "source": [
    "### Changes made\n",
    "- Some features removed (refer to df.drop cell on top)\n",
    "- time_date data removed time for time series visualization (from 2014-08-11 9:00 to 2014-08-1)\n",
    "- To access plotty visualization code, open a cell, run !pip install plotty and !pip install dash\n",
    "\n",
    "## Take note\n",
    "- We are here interested in studying the characteristics of customers who decide their preference for a house in a residence.\n",
    "- For example, customer with certain amount of distance will prefer adult room number of sth sth \n",
    "- Other time series trend can also be explored\n",
    "\n"
   ]
  },
  {
   "cell_type": "code",
   "execution_count": null,
   "id": "6fb88e69-3d87-45af-94e6-25f9999070d5",
   "metadata": {},
   "outputs": [],
   "source": [
    "df.to_csv('dac_stage2.csv', index=False)"
   ]
  },
  {
   "cell_type": "code",
   "execution_count": null,
   "id": "b95fe564-db72-4053-9e56-b68e7a009132",
   "metadata": {},
   "outputs": [],
   "source": []
  }
 ],
 "metadata": {
  "kernelspec": {
   "display_name": "Python 3",
   "language": "python",
   "name": "python3"
  },
  "language_info": {
   "codemirror_mode": {
    "name": "ipython",
    "version": 3
   },
   "file_extension": ".py",
   "mimetype": "text/x-python",
   "name": "python",
   "nbconvert_exporter": "python",
   "pygments_lexer": "ipython3",
   "version": "3.8.8"
  }
 },
 "nbformat": 4,
 "nbformat_minor": 5
}
